{
 "cells": [
  {
   "cell_type": "markdown",
   "metadata": {
    "id": "m7K0hXXnjp5F"
   },
   "source": [
    "# Project: Retail Data Analytics\n",
    "- Project proposal: Our goal is to provide recommended actions for stores to improve the department-wide sale. We will measure the influence of features such as markdowns and holiday on the sales and model the effects of markdowns on holiday weeks.\n",
    "- Data source: https://www.kaggle.com/manjeetsingh/retaildataset\n",
    "- Tableau dashboard (check part 6 for dashboard graphs):\n",
    "https://prod-useast-a.online.tableau.com/t/soltaniehha/views/Team2BProject/FinalDashboard_1?:origin=card_share_link&:embed=n\n",
    "- Project member: Chenli Qiu, Maro Derhovanessians, Shiyu Ye, Ying Li, Zhiyuan Sun"
   ]
  },
  {
   "cell_type": "markdown",
   "metadata": {
    "id": "WRMtGCqHjp5J"
   },
   "source": [
    "## 1. Exploring the Dataset\n",
    "Historical department-wise sales data for 45 stores located in different regions are provided in the dataset. The company also runs several promotional markdown events throughout the year. These markdowns precede prominent holidays, the four largest of which are the Super Bowl, Labor Day, Thanksgiving, and Christmas. The weeks including these holidays are weighted five times higher in the evaluation than non-holiday weeks.\n",
    "\n",
    "Within the Excel Sheet, there are 3 Tabs – Stores, Features and Sales"
   ]
  },
  {
   "cell_type": "markdown",
   "metadata": {
    "id": "XP-nT9AVjp5L"
   },
   "source": [
    "### 1.1 Stores Table"
   ]
  },
  {
   "cell_type": "markdown",
   "metadata": {
    "id": "kex4-fXpjp5N"
   },
   "source": [
    "Contains data related to store type and store size."
   ]
  },
  {
   "cell_type": "code",
   "execution_count": 10,
   "metadata": {
    "id": "TTcPIFzRjp5Q"
   },
   "outputs": [],
   "source": [
    "%%bigquery --project ba775-team-2b stores\n",
    "SELECT * FROM `ba775-team-2b.Retail_Data_Analytics.stores_data_set`"
   ]
  },
  {
   "cell_type": "code",
   "execution_count": null,
   "metadata": {
    "colab": {
     "base_uri": "https://localhost:8080/",
     "height": 202
    },
    "id": "wCA53LoYWWCk",
    "outputId": "91b5ec57-8db0-4b23-e84b-6cd086c3a0d7"
   },
   "outputs": [
    {
     "data": {
      "text/html": [
       "<div>\n",
       "<style scoped>\n",
       "    .dataframe tbody tr th:only-of-type {\n",
       "        vertical-align: middle;\n",
       "    }\n",
       "\n",
       "    .dataframe tbody tr th {\n",
       "        vertical-align: top;\n",
       "    }\n",
       "\n",
       "    .dataframe thead th {\n",
       "        text-align: right;\n",
       "    }\n",
       "</style>\n",
       "<table border=\"1\" class=\"dataframe\">\n",
       "  <thead>\n",
       "    <tr style=\"text-align: right;\">\n",
       "      <th></th>\n",
       "      <th>Store</th>\n",
       "      <th>Type</th>\n",
       "      <th>Size</th>\n",
       "    </tr>\n",
       "  </thead>\n",
       "  <tbody>\n",
       "    <tr>\n",
       "      <th>0</th>\n",
       "      <td>1</td>\n",
       "      <td>A</td>\n",
       "      <td>151315</td>\n",
       "    </tr>\n",
       "    <tr>\n",
       "      <th>1</th>\n",
       "      <td>2</td>\n",
       "      <td>A</td>\n",
       "      <td>202307</td>\n",
       "    </tr>\n",
       "    <tr>\n",
       "      <th>2</th>\n",
       "      <td>4</td>\n",
       "      <td>A</td>\n",
       "      <td>205863</td>\n",
       "    </tr>\n",
       "    <tr>\n",
       "      <th>3</th>\n",
       "      <td>6</td>\n",
       "      <td>A</td>\n",
       "      <td>202505</td>\n",
       "    </tr>\n",
       "    <tr>\n",
       "      <th>4</th>\n",
       "      <td>8</td>\n",
       "      <td>A</td>\n",
       "      <td>155078</td>\n",
       "    </tr>\n",
       "  </tbody>\n",
       "</table>\n",
       "</div>"
      ],
      "text/plain": [
       "   Store Type    Size\n",
       "0      1    A  151315\n",
       "1      2    A  202307\n",
       "2      4    A  205863\n",
       "3      6    A  202505\n",
       "4      8    A  155078"
      ]
     },
     "execution_count": 6,
     "metadata": {
      "tags": []
     },
     "output_type": "execute_result"
    }
   ],
   "source": [
    "stores[:5]"
   ]
  },
  {
   "cell_type": "markdown",
   "metadata": {
    "id": "_SuUaRmJjp5a"
   },
   "source": [
    "### 1.2 Features Table"
   ]
  },
  {
   "cell_type": "markdown",
   "metadata": {
    "id": "xdHmizKIjp5c"
   },
   "source": [
    "Contains additional data related to the store, department, and regional activity for the given dates.\n",
    "\n",
    "- Store - the store number\n",
    "<br>\n",
    "- Date - the week\n",
    "<br>\n",
    "- Temperature - average temperature in the region\n",
    "<br>\n",
    "- Fuel_Price - cost of fuel in the region\n",
    "<br>\n",
    "- MarkDown1-5 - anonymized data related to promotional markdowns. MarkDown data is only available after Nov 2011, and is not available for all stores all the time. Any missing value is marked with an NA\n",
    "<br>\n",
    "- CPI - the consumer price index\n",
    "<br>\n",
    "- Unemployment - the unemployment rate\n",
    "<br>\n",
    "- IsHoliday - whether the week is a special holiday week"
   ]
  },
  {
   "cell_type": "code",
   "execution_count": null,
   "metadata": {
    "id": "LsWjj7q9jp5d"
   },
   "outputs": [],
   "source": [
    "%%bigquery\n",
    "SELECT * FROM `ba775-team-2b.Retail_Data_Analytics.Features_data_set`"
   ]
  },
  {
   "cell_type": "code",
   "execution_count": null,
   "metadata": {
    "colab": {
     "base_uri": "https://localhost:8080/",
     "height": 202
    },
    "id": "xs1FkVhlWgyI",
    "outputId": "ef372f92-a5c9-4f5a-8b9d-6647a2f30d71"
   },
   "outputs": [
    {
     "data": {
      "text/html": [
       "<div>\n",
       "<style scoped>\n",
       "    .dataframe tbody tr th:only-of-type {\n",
       "        vertical-align: middle;\n",
       "    }\n",
       "\n",
       "    .dataframe tbody tr th {\n",
       "        vertical-align: top;\n",
       "    }\n",
       "\n",
       "    .dataframe thead th {\n",
       "        text-align: right;\n",
       "    }\n",
       "</style>\n",
       "<table border=\"1\" class=\"dataframe\">\n",
       "  <thead>\n",
       "    <tr style=\"text-align: right;\">\n",
       "      <th></th>\n",
       "      <th>Store</th>\n",
       "      <th>Date</th>\n",
       "      <th>Temperature</th>\n",
       "      <th>Fuel_Price</th>\n",
       "      <th>MarkDown1</th>\n",
       "      <th>MarkDown2</th>\n",
       "      <th>MarkDown3</th>\n",
       "      <th>MarkDown4</th>\n",
       "      <th>MarkDown5</th>\n",
       "      <th>CPI</th>\n",
       "      <th>Unemployment</th>\n",
       "      <th>IsHoliday</th>\n",
       "    </tr>\n",
       "  </thead>\n",
       "  <tbody>\n",
       "    <tr>\n",
       "      <th>0</th>\n",
       "      <td>1</td>\n",
       "      <td>2011-11-11</td>\n",
       "      <td>59.11</td>\n",
       "      <td>3.297</td>\n",
       "      <td>10382.9</td>\n",
       "      <td>6115.67</td>\n",
       "      <td>215.07</td>\n",
       "      <td>2406.62</td>\n",
       "      <td>6551.42</td>\n",
       "      <td>217.9980849</td>\n",
       "      <td>7.866</td>\n",
       "      <td>False</td>\n",
       "    </tr>\n",
       "    <tr>\n",
       "      <th>1</th>\n",
       "      <td>1</td>\n",
       "      <td>2011-11-18</td>\n",
       "      <td>62.25</td>\n",
       "      <td>3.308</td>\n",
       "      <td>6074.12</td>\n",
       "      <td>254.39</td>\n",
       "      <td>51.98</td>\n",
       "      <td>427.39</td>\n",
       "      <td>5988.57</td>\n",
       "      <td>218.2205088</td>\n",
       "      <td>7.866</td>\n",
       "      <td>False</td>\n",
       "    </tr>\n",
       "    <tr>\n",
       "      <th>2</th>\n",
       "      <td>1</td>\n",
       "      <td>2011-12-02</td>\n",
       "      <td>48.91</td>\n",
       "      <td>3.172</td>\n",
       "      <td>5629.51</td>\n",
       "      <td>68</td>\n",
       "      <td>1398.11</td>\n",
       "      <td>2084.64</td>\n",
       "      <td>20475.32</td>\n",
       "      <td>218.7147333</td>\n",
       "      <td>7.866</td>\n",
       "      <td>False</td>\n",
       "    </tr>\n",
       "    <tr>\n",
       "      <th>3</th>\n",
       "      <td>1</td>\n",
       "      <td>2011-12-09</td>\n",
       "      <td>43.93</td>\n",
       "      <td>3.158</td>\n",
       "      <td>4640.65</td>\n",
       "      <td>19</td>\n",
       "      <td>105.02</td>\n",
       "      <td>3639.42</td>\n",
       "      <td>14461.82</td>\n",
       "      <td>218.9618456</td>\n",
       "      <td>7.866</td>\n",
       "      <td>False</td>\n",
       "    </tr>\n",
       "    <tr>\n",
       "      <th>4</th>\n",
       "      <td>1</td>\n",
       "      <td>2011-12-16</td>\n",
       "      <td>51.63</td>\n",
       "      <td>3.159</td>\n",
       "      <td>5011.32</td>\n",
       "      <td>67</td>\n",
       "      <td>347.37</td>\n",
       "      <td>225.79</td>\n",
       "      <td>4011.37</td>\n",
       "      <td>219.1794533</td>\n",
       "      <td>7.866</td>\n",
       "      <td>False</td>\n",
       "    </tr>\n",
       "  </tbody>\n",
       "</table>\n",
       "</div>"
      ],
      "text/plain": [
       "   Store        Date  Temperature  ...          CPI Unemployment IsHoliday\n",
       "0      1  2011-11-11        59.11  ...  217.9980849        7.866     False\n",
       "1      1  2011-11-18        62.25  ...  218.2205088        7.866     False\n",
       "2      1  2011-12-02        48.91  ...  218.7147333        7.866     False\n",
       "3      1  2011-12-09        43.93  ...  218.9618456        7.866     False\n",
       "4      1  2011-12-16        51.63  ...  219.1794533        7.866     False\n",
       "\n",
       "[5 rows x 12 columns]"
      ]
     },
     "execution_count": 8,
     "metadata": {
      "tags": []
     },
     "output_type": "execute_result"
    }
   ],
   "source": [
    "features[:5]"
   ]
  },
  {
   "cell_type": "markdown",
   "metadata": {
    "id": "0m9P_WLMjp5o"
   },
   "source": [
    "### 1.3 Sales Table"
   ]
  },
  {
   "cell_type": "markdown",
   "metadata": {
    "id": "2bh_fTpMjp5p"
   },
   "source": [
    "Historical sales data covers from 2010-02-05 to 2012-11-01.\n",
    "<br>\n",
    "- Store - the store number\n",
    "<br>\n",
    "- Dept - the department number\n",
    "<br>\n",
    "- Date - the week\n",
    "<br>\n",
    "- Weekly_Sales -  sales for the given department in the given store\n",
    "<br>\n",
    "- IsHoliday - whether the week is a special holiday week"
   ]
  },
  {
   "cell_type": "code",
   "execution_count": 11,
   "metadata": {
    "id": "9XqGvCEtjp5r"
   },
   "outputs": [],
   "source": [
    "%%bigquery sales\n",
    "SELECT * FROM `ba775-team-2b.Retail_Data_Analytics.sales_data_set`"
   ]
  },
  {
   "cell_type": "code",
   "execution_count": null,
   "metadata": {
    "colab": {
     "base_uri": "https://localhost:8080/",
     "height": 202
    },
    "id": "WIPPwPTpJ6Mr",
    "outputId": "fb535201-2c9c-45b3-bddd-8d7a6cd48064"
   },
   "outputs": [
    {
     "data": {
      "text/html": [
       "<div>\n",
       "<style scoped>\n",
       "    .dataframe tbody tr th:only-of-type {\n",
       "        vertical-align: middle;\n",
       "    }\n",
       "\n",
       "    .dataframe tbody tr th {\n",
       "        vertical-align: top;\n",
       "    }\n",
       "\n",
       "    .dataframe thead th {\n",
       "        text-align: right;\n",
       "    }\n",
       "</style>\n",
       "<table border=\"1\" class=\"dataframe\">\n",
       "  <thead>\n",
       "    <tr style=\"text-align: right;\">\n",
       "      <th></th>\n",
       "      <th>Store</th>\n",
       "      <th>Dept</th>\n",
       "      <th>Date</th>\n",
       "      <th>Weekly_Sales</th>\n",
       "      <th>IsHoliday</th>\n",
       "    </tr>\n",
       "  </thead>\n",
       "  <tbody>\n",
       "    <tr>\n",
       "      <th>0</th>\n",
       "      <td>1</td>\n",
       "      <td>1</td>\n",
       "      <td>2010-02-05</td>\n",
       "      <td>24924.50</td>\n",
       "      <td>False</td>\n",
       "    </tr>\n",
       "    <tr>\n",
       "      <th>1</th>\n",
       "      <td>1</td>\n",
       "      <td>1</td>\n",
       "      <td>2010-02-19</td>\n",
       "      <td>41595.55</td>\n",
       "      <td>False</td>\n",
       "    </tr>\n",
       "    <tr>\n",
       "      <th>2</th>\n",
       "      <td>1</td>\n",
       "      <td>1</td>\n",
       "      <td>2010-02-26</td>\n",
       "      <td>19403.54</td>\n",
       "      <td>False</td>\n",
       "    </tr>\n",
       "    <tr>\n",
       "      <th>3</th>\n",
       "      <td>1</td>\n",
       "      <td>1</td>\n",
       "      <td>2010-03-05</td>\n",
       "      <td>21827.90</td>\n",
       "      <td>False</td>\n",
       "    </tr>\n",
       "    <tr>\n",
       "      <th>4</th>\n",
       "      <td>1</td>\n",
       "      <td>1</td>\n",
       "      <td>2010-03-12</td>\n",
       "      <td>21043.39</td>\n",
       "      <td>False</td>\n",
       "    </tr>\n",
       "  </tbody>\n",
       "</table>\n",
       "</div>"
      ],
      "text/plain": [
       "   Store  Dept        Date  Weekly_Sales  IsHoliday\n",
       "0      1     1  2010-02-05      24924.50      False\n",
       "1      1     1  2010-02-19      41595.55      False\n",
       "2      1     1  2010-02-26      19403.54      False\n",
       "3      1     1  2010-03-05      21827.90      False\n",
       "4      1     1  2010-03-12      21043.39      False"
      ]
     },
     "execution_count": 10,
     "metadata": {
      "tags": []
     },
     "output_type": "execute_result"
    }
   ],
   "source": [
    "sales[:5]"
   ]
  },
  {
   "cell_type": "markdown",
   "metadata": {
    "id": "1QkUhFFBjp50"
   },
   "source": [
    "## 2.Exploring Questions"
   ]
  },
  {
   "cell_type": "markdown",
   "metadata": {
    "id": "qhIZRrvijp52"
   },
   "source": [
    "The goal for this project is to provide recommended actions for stores to improve the department-wide sale. In order to achieve this, We need to measure how different features influence stores' department-wide sales. There are ----five---- questions below and each of them gives insight about sales from different dimensions. "
   ]
  },
  {
   "cell_type": "markdown",
   "metadata": {
    "id": "uxVYKT7Vjp53"
   },
   "source": [
    "### 2.1 Question:\n",
    "What is the effect of CPI and Unemployment on department sales?\n",
    "- Consumer Price Index (CPI) measures the average change in prices over time that consumers pay for a basket of goods and services. It can be used to assess price changes associated with the cost of living. Since the economic climate has a huge impact on customer's desire and ability to consume, in this problem, the effect of CPI and unemployment rate on the stores' department-wise sales are measured. The sales data is grouped by the department in order to better achieve the goal.\n",
    "- Conclusion: Both 'Quarterly Sales VS. CPI' and 'Quarterly Sales VS. Unemployment' are in same shape for each department. Though one CPI value might correspond to multiple sales data, it is clearly shown in Figure 1 that the average quarterly sales with lower CPI is much higher. When considering the effect of unemplyment rate, the graph suggests that high quarterly sales is concentrated within unemployment range of 5 to 10. Overall, both CPI and unemployment rate can give some insight about sales. "
   ]
  },
  {
   "cell_type": "code",
   "execution_count": null,
   "metadata": {
    "colab": {
     "base_uri": "https://localhost:8080/",
     "height": 415
    },
    "id": "ryOSDYxGjp54",
    "outputId": "79978b25-b04c-46f5-c8bc-c42c8a69dcd5"
   },
   "outputs": [
    {
     "data": {
      "text/html": [
       "<div>\n",
       "<style scoped>\n",
       "    .dataframe tbody tr th:only-of-type {\n",
       "        vertical-align: middle;\n",
       "    }\n",
       "\n",
       "    .dataframe tbody tr th {\n",
       "        vertical-align: top;\n",
       "    }\n",
       "\n",
       "    .dataframe thead th {\n",
       "        text-align: right;\n",
       "    }\n",
       "</style>\n",
       "<table border=\"1\" class=\"dataframe\">\n",
       "  <thead>\n",
       "    <tr style=\"text-align: right;\">\n",
       "      <th></th>\n",
       "      <th>Dept</th>\n",
       "      <th>year</th>\n",
       "      <th>quarter</th>\n",
       "      <th>quarterly_CPI</th>\n",
       "      <th>quarterly_Unemployment</th>\n",
       "      <th>Dept_quarterly_sale</th>\n",
       "    </tr>\n",
       "  </thead>\n",
       "  <tbody>\n",
       "    <tr>\n",
       "      <th>0</th>\n",
       "      <td>1</td>\n",
       "      <td>2010</td>\n",
       "      <td>1</td>\n",
       "      <td>211.24</td>\n",
       "      <td>8.11</td>\n",
       "      <td>223200.22</td>\n",
       "    </tr>\n",
       "    <tr>\n",
       "      <th>1</th>\n",
       "      <td>1</td>\n",
       "      <td>2010</td>\n",
       "      <td>2</td>\n",
       "      <td>210.80</td>\n",
       "      <td>7.81</td>\n",
       "      <td>283951.61</td>\n",
       "    </tr>\n",
       "    <tr>\n",
       "      <th>2</th>\n",
       "      <td>1</td>\n",
       "      <td>2010</td>\n",
       "      <td>3</td>\n",
       "      <td>211.42</td>\n",
       "      <td>7.79</td>\n",
       "      <td>218407.09</td>\n",
       "    </tr>\n",
       "    <tr>\n",
       "      <th>3</th>\n",
       "      <td>1</td>\n",
       "      <td>2010</td>\n",
       "      <td>4</td>\n",
       "      <td>211.71</td>\n",
       "      <td>7.84</td>\n",
       "      <td>400789.81</td>\n",
       "    </tr>\n",
       "    <tr>\n",
       "      <th>4</th>\n",
       "      <td>1</td>\n",
       "      <td>2011</td>\n",
       "      <td>1</td>\n",
       "      <td>213.01</td>\n",
       "      <td>7.74</td>\n",
       "      <td>277732.56</td>\n",
       "    </tr>\n",
       "    <tr>\n",
       "      <th>...</th>\n",
       "      <td>...</td>\n",
       "      <td>...</td>\n",
       "      <td>...</td>\n",
       "      <td>...</td>\n",
       "      <td>...</td>\n",
       "      <td>...</td>\n",
       "    </tr>\n",
       "    <tr>\n",
       "      <th>95</th>\n",
       "      <td>8</td>\n",
       "      <td>2012</td>\n",
       "      <td>4</td>\n",
       "      <td>223.36</td>\n",
       "      <td>6.57</td>\n",
       "      <td>157836.32</td>\n",
       "    </tr>\n",
       "    <tr>\n",
       "      <th>96</th>\n",
       "      <td>9</td>\n",
       "      <td>2010</td>\n",
       "      <td>1</td>\n",
       "      <td>211.24</td>\n",
       "      <td>8.11</td>\n",
       "      <td>175486.09</td>\n",
       "    </tr>\n",
       "    <tr>\n",
       "      <th>97</th>\n",
       "      <td>9</td>\n",
       "      <td>2010</td>\n",
       "      <td>2</td>\n",
       "      <td>210.80</td>\n",
       "      <td>7.81</td>\n",
       "      <td>352170.04</td>\n",
       "    </tr>\n",
       "    <tr>\n",
       "      <th>98</th>\n",
       "      <td>9</td>\n",
       "      <td>2010</td>\n",
       "      <td>3</td>\n",
       "      <td>211.42</td>\n",
       "      <td>7.79</td>\n",
       "      <td>320145.67</td>\n",
       "    </tr>\n",
       "    <tr>\n",
       "      <th>99</th>\n",
       "      <td>9</td>\n",
       "      <td>2010</td>\n",
       "      <td>4</td>\n",
       "      <td>211.71</td>\n",
       "      <td>7.84</td>\n",
       "      <td>480260.10</td>\n",
       "    </tr>\n",
       "  </tbody>\n",
       "</table>\n",
       "<p>100 rows × 6 columns</p>\n",
       "</div>"
      ],
      "text/plain": [
       "    Dept  year  ...  quarterly_Unemployment  Dept_quarterly_sale\n",
       "0      1  2010  ...                    8.11            223200.22\n",
       "1      1  2010  ...                    7.81            283951.61\n",
       "2      1  2010  ...                    7.79            218407.09\n",
       "3      1  2010  ...                    7.84            400789.81\n",
       "4      1  2011  ...                    7.74            277732.56\n",
       "..   ...   ...  ...                     ...                  ...\n",
       "95     8  2012  ...                    6.57            157836.32\n",
       "96     9  2010  ...                    8.11            175486.09\n",
       "97     9  2010  ...                    7.81            352170.04\n",
       "98     9  2010  ...                    7.79            320145.67\n",
       "99     9  2010  ...                    7.84            480260.10\n",
       "\n",
       "[100 rows x 6 columns]"
      ]
     },
     "execution_count": 32,
     "metadata": {
      "tags": []
     },
     "output_type": "execute_result"
    }
   ],
   "source": [
    "%%bigquery --project ba775-team-2b\n",
    "SELECT * FROM `ba775-team-2b.Retail_Data_Analytics.Question1`\n",
    "LIMIT 100;"
   ]
  },
  {
   "cell_type": "markdown",
   "metadata": {
    "id": "5Rp_OxZtjp5_"
   },
   "source": [
    "### 2.2 Question: Chenli Qiu\n",
    "What is the influence of temperature and cost of fuel on weekly department-wise sales in different stores? \n",
    "- Both fuel price and temperature varies with varying geographic location. This can be influential for customers’ decision of whether or not to go shopping in the stores. For example, in very hot or cold weather, the consumption of fuel will increase, resulting in higher travel costs. Therefore, they may choose a more comfortable day with less fuel paying to go shopping in the stores. In this problem, we want to figure out the effect of temperature and fuel price on weekly department-wise sales in different stores.\n",
    "- Conclusion: The influence of temperature on sales comes up when there is dramatic dropvariation in temperature. As shown in Figure 2, the climax of sales comes right after drastic temperature drop from 80°F to 40°F. This pattern is repeated. The sales returns to noraml sales value (around 15K) with gradually rising temperature. For the fuel price, it increases with time in general. There is no clear correlation between fuel price and sales. Through the obervation, the peak sales value with higher fuel price is lower than that with lower fuel price. The potential influcenc of fuel price need further investion."
   ]
  },
  {
   "cell_type": "code",
   "execution_count": null,
   "metadata": {
    "id": "bSm-IScxjp6C",
    "outputId": "ff5f26e5-23e5-4c63-84c6-433d817879c3"
   },
   "outputs": [
    {
     "data": {
      "text/html": [
       "<div>\n",
       "<style scoped>\n",
       "    .dataframe tbody tr th:only-of-type {\n",
       "        vertical-align: middle;\n",
       "    }\n",
       "\n",
       "    .dataframe tbody tr th {\n",
       "        vertical-align: top;\n",
       "    }\n",
       "\n",
       "    .dataframe thead th {\n",
       "        text-align: right;\n",
       "    }\n",
       "</style>\n",
       "<table border=\"1\" class=\"dataframe\">\n",
       "  <thead>\n",
       "    <tr style=\"text-align: right;\">\n",
       "      <th></th>\n",
       "      <th>Store</th>\n",
       "      <th>Dept</th>\n",
       "      <th>Temperature</th>\n",
       "      <th>Fuel_price</th>\n",
       "      <th>date</th>\n",
       "      <th>Weekly_Sales</th>\n",
       "    </tr>\n",
       "  </thead>\n",
       "  <tbody>\n",
       "    <tr>\n",
       "      <th>0</th>\n",
       "      <td>1</td>\n",
       "      <td>1</td>\n",
       "      <td>85.22</td>\n",
       "      <td>2.619</td>\n",
       "      <td>2010-08-27</td>\n",
       "      <td>15793.87</td>\n",
       "    </tr>\n",
       "    <tr>\n",
       "      <th>1</th>\n",
       "      <td>1</td>\n",
       "      <td>2</td>\n",
       "      <td>85.22</td>\n",
       "      <td>2.619</td>\n",
       "      <td>2010-08-27</td>\n",
       "      <td>49623.53</td>\n",
       "    </tr>\n",
       "    <tr>\n",
       "      <th>2</th>\n",
       "      <td>1</td>\n",
       "      <td>3</td>\n",
       "      <td>85.22</td>\n",
       "      <td>2.619</td>\n",
       "      <td>2010-08-27</td>\n",
       "      <td>51159.17</td>\n",
       "    </tr>\n",
       "    <tr>\n",
       "      <th>3</th>\n",
       "      <td>1</td>\n",
       "      <td>4</td>\n",
       "      <td>85.22</td>\n",
       "      <td>2.619</td>\n",
       "      <td>2010-08-27</td>\n",
       "      <td>36404.60</td>\n",
       "    </tr>\n",
       "    <tr>\n",
       "      <th>4</th>\n",
       "      <td>1</td>\n",
       "      <td>5</td>\n",
       "      <td>85.22</td>\n",
       "      <td>2.619</td>\n",
       "      <td>2010-08-27</td>\n",
       "      <td>13570.32</td>\n",
       "    </tr>\n",
       "    <tr>\n",
       "      <th>...</th>\n",
       "      <td>...</td>\n",
       "      <td>...</td>\n",
       "      <td>...</td>\n",
       "      <td>...</td>\n",
       "      <td>...</td>\n",
       "      <td>...</td>\n",
       "    </tr>\n",
       "    <tr>\n",
       "      <th>15995</th>\n",
       "      <td>2</td>\n",
       "      <td>49</td>\n",
       "      <td>51.70</td>\n",
       "      <td>3.268</td>\n",
       "      <td>2012-01-20</td>\n",
       "      <td>18549.52</td>\n",
       "    </tr>\n",
       "    <tr>\n",
       "      <th>15996</th>\n",
       "      <td>2</td>\n",
       "      <td>52</td>\n",
       "      <td>51.70</td>\n",
       "      <td>3.268</td>\n",
       "      <td>2012-01-20</td>\n",
       "      <td>3316.37</td>\n",
       "    </tr>\n",
       "    <tr>\n",
       "      <th>15997</th>\n",
       "      <td>2</td>\n",
       "      <td>54</td>\n",
       "      <td>51.70</td>\n",
       "      <td>3.268</td>\n",
       "      <td>2012-01-20</td>\n",
       "      <td>28.92</td>\n",
       "    </tr>\n",
       "    <tr>\n",
       "      <th>15998</th>\n",
       "      <td>2</td>\n",
       "      <td>55</td>\n",
       "      <td>51.70</td>\n",
       "      <td>3.268</td>\n",
       "      <td>2012-01-20</td>\n",
       "      <td>9293.76</td>\n",
       "    </tr>\n",
       "    <tr>\n",
       "      <th>15999</th>\n",
       "      <td>2</td>\n",
       "      <td>56</td>\n",
       "      <td>51.70</td>\n",
       "      <td>3.268</td>\n",
       "      <td>2012-01-20</td>\n",
       "      <td>1754.29</td>\n",
       "    </tr>\n",
       "  </tbody>\n",
       "</table>\n",
       "<p>16000 rows × 6 columns</p>\n",
       "</div>"
      ],
      "text/plain": [
       "       Store  Dept  Temperature  Fuel_price        date  Weekly_Sales\n",
       "0          1     1        85.22       2.619  2010-08-27      15793.87\n",
       "1          1     2        85.22       2.619  2010-08-27      49623.53\n",
       "2          1     3        85.22       2.619  2010-08-27      51159.17\n",
       "3          1     4        85.22       2.619  2010-08-27      36404.60\n",
       "4          1     5        85.22       2.619  2010-08-27      13570.32\n",
       "...      ...   ...          ...         ...         ...           ...\n",
       "15995      2    49        51.70       3.268  2012-01-20      18549.52\n",
       "15996      2    52        51.70       3.268  2012-01-20       3316.37\n",
       "15997      2    54        51.70       3.268  2012-01-20         28.92\n",
       "15998      2    55        51.70       3.268  2012-01-20       9293.76\n",
       "15999      2    56        51.70       3.268  2012-01-20       1754.29\n",
       "\n",
       "[16000 rows x 6 columns]"
      ]
     },
     "execution_count": 1,
     "metadata": {
      "tags": []
     },
     "output_type": "execute_result"
    }
   ],
   "source": [
    "%%bigquery --project ba775-team-2b\n",
    "SELECT feature.Store,sale.Dept, feature.Temperature,feature.Fuel_price,feature.date,sale.Weekly_Sales\n",
    "FROM `ba775-team-2b.Retail_Data_Analytics.Features_data_set` AS feature\n",
    "INNER JOIN `ba775-team-2b.Retail_Data_Analytics.sales_data_set` AS sale\n",
    "ON feature.Date = sale.Date\n",
    "AND feature.Store = sale.store\n",
    "WHERE CPI != 'NA' AND Unemployment != 'NA'\n",
    "limit 1000;"
   ]
  },
  {
   "cell_type": "markdown",
   "metadata": {
    "id": "9iW0YMFgjp6K"
   },
   "source": [
    "### 2.3 Question: Shiyu\n",
    "What is the effect of whether holiday or not on the average sales in different stores?\n",
    "- Explanation: It is clearly shown in the table that the average sales in the store are generally higher on holidays. For instance, the highest average sale on holiday is 31106.99 dollars. Compared to that, there is only 29386.52 dollars' sale for 45 stores when not on holiday. The lowest average sale for 45 stores on holiday is 5617.21 dollars, which is more than the lowest value of 5010.25 dollars when not on vacation. Obviously, the line of average weekly sales on holiday above the line of average weekly sales not on holiday showing in the plot that we created in tableau. \n",
    "\n",
    "- Conclusion:Therefore, holiday is a major factor to affect sales. We think that stores can take some actions to take advantage of the holiday such as hold some promotion events during holidays in order to obtain higher sales.\n"
   ]
  },
  {
   "cell_type": "code",
   "execution_count": null,
   "metadata": {
    "id": "a5OwInQyjp6L",
    "outputId": "cb4251cb-e504-4861-a27d-250cf49bc100"
   },
   "outputs": [
    {
     "data": {
      "text/html": [
       "<div>\n",
       "<style scoped>\n",
       "    .dataframe tbody tr th:only-of-type {\n",
       "        vertical-align: middle;\n",
       "    }\n",
       "\n",
       "    .dataframe tbody tr th {\n",
       "        vertical-align: top;\n",
       "    }\n",
       "\n",
       "    .dataframe thead th {\n",
       "        text-align: right;\n",
       "    }\n",
       "</style>\n",
       "<table border=\"1\" class=\"dataframe\">\n",
       "  <thead>\n",
       "    <tr style=\"text-align: right;\">\n",
       "      <th></th>\n",
       "      <th>Store</th>\n",
       "      <th>IsHoliday</th>\n",
       "      <th>avg_sale</th>\n",
       "    </tr>\n",
       "  </thead>\n",
       "  <tbody>\n",
       "    <tr>\n",
       "      <th>0</th>\n",
       "      <td>20</td>\n",
       "      <td>True</td>\n",
       "      <td>31106.99</td>\n",
       "    </tr>\n",
       "    <tr>\n",
       "      <th>1</th>\n",
       "      <td>4</td>\n",
       "      <td>True</td>\n",
       "      <td>30854.23</td>\n",
       "    </tr>\n",
       "    <tr>\n",
       "      <th>2</th>\n",
       "      <td>14</td>\n",
       "      <td>True</td>\n",
       "      <td>30164.77</td>\n",
       "    </tr>\n",
       "    <tr>\n",
       "      <th>3</th>\n",
       "      <td>20</td>\n",
       "      <td>False</td>\n",
       "      <td>29386.52</td>\n",
       "    </tr>\n",
       "    <tr>\n",
       "      <th>4</th>\n",
       "      <td>10</td>\n",
       "      <td>True</td>\n",
       "      <td>29195.52</td>\n",
       "    </tr>\n",
       "    <tr>\n",
       "      <th>...</th>\n",
       "      <td>...</td>\n",
       "      <td>...</td>\n",
       "      <td>...</td>\n",
       "    </tr>\n",
       "    <tr>\n",
       "      <th>85</th>\n",
       "      <td>44</td>\n",
       "      <td>True</td>\n",
       "      <td>5932.58</td>\n",
       "    </tr>\n",
       "    <tr>\n",
       "      <th>86</th>\n",
       "      <td>33</td>\n",
       "      <td>True</td>\n",
       "      <td>5796.79</td>\n",
       "    </tr>\n",
       "    <tr>\n",
       "      <th>87</th>\n",
       "      <td>33</td>\n",
       "      <td>False</td>\n",
       "      <td>5723.28</td>\n",
       "    </tr>\n",
       "    <tr>\n",
       "      <th>88</th>\n",
       "      <td>5</td>\n",
       "      <td>True</td>\n",
       "      <td>5617.21</td>\n",
       "    </tr>\n",
       "    <tr>\n",
       "      <th>89</th>\n",
       "      <td>5</td>\n",
       "      <td>False</td>\n",
       "      <td>5010.25</td>\n",
       "    </tr>\n",
       "  </tbody>\n",
       "</table>\n",
       "<p>90 rows × 3 columns</p>\n",
       "</div>"
      ],
      "text/plain": [
       "    Store  IsHoliday  avg_sale\n",
       "0      20       True  31106.99\n",
       "1       4       True  30854.23\n",
       "2      14       True  30164.77\n",
       "3      20      False  29386.52\n",
       "4      10       True  29195.52\n",
       "..    ...        ...       ...\n",
       "85     44       True   5932.58\n",
       "86     33       True   5796.79\n",
       "87     33      False   5723.28\n",
       "88      5       True   5617.21\n",
       "89      5      False   5010.25\n",
       "\n",
       "[90 rows x 3 columns]"
      ]
     },
     "execution_count": 27,
     "metadata": {
      "tags": []
     },
     "output_type": "execute_result"
    }
   ],
   "source": [
    "%%bigquery --project ba775-team-2b\n",
    "SELECT feature.Store, feature.IsHoliday,\n",
    "   ROUND(AVG(Weekly_Sales),2)As avg_sale,\n",
    "FROM `ba775-team-2b.Retail_Data_Analytics.Features_data_set` AS feature\n",
    "INNER JOIN `ba775-team-2b.Retail_Data_Analytics.sales_data_set` AS sale\n",
    "ON feature.Date = sale.Date\n",
    "AND feature.Store = sale.store\n",
    "GROUP BY feature.Store,feature.IsHoliday\n",
    "ORDER BY avg_sale DESC\n",
    "LIMIT 1000;"
   ]
  },
  {
   "cell_type": "markdown",
   "metadata": {
    "id": "H4aBqjHwjp6S"
   },
   "source": [
    "### 2.4 Question: Shiyu\n",
    "What is the relationship between temperature and average weekly sales during holidays?\n",
    "\n",
    "- Explanation: From the table one, we can see that under the average temperature, the average sales per week of 45 stores can reach up to 42343.62 dollars on holiday. The comfort sensation is achieved when the ambient dry-bulb air temperature is between 22.5°C–26°C, which is 72.5°F -78°F (Sam, Ben, John, 2020). So we use 78 Fahrenheit degrees as a dividing line to compare average sales per week between the average temperature when the temperature is greater than 78°F and the total average temperature.\n",
    "- To our surprise, only a 6% probability of the average sales per week under the comfort temperature is higher than it with higher temperatures, even though the highest average sales per week are only 29111.02 dollars when more than 78°F.\n",
    "- After that, we create a correlation table to investigate whether the relationship exists between temperature and average sales per week. According to the second table below, there is a weak relationship between temperature and average sales per week during holidays since almost absolute correlation values are less than 0.3 and just two points are higher than 0.5. \n",
    "\n",
    "- Conclusion: The temperature may affect the sales in holiday but it is not a major reason to influence store sales on holiday. To a certain degree, consumer may not particularly care about the weather if they willing to go shopping during the holiday. Thus, we suggest that stores can appropriately to consider the impact of temperature when they need to hold some promotion events or other activities during holiday."
   ]
  },
  {
   "cell_type": "code",
   "execution_count": null,
   "metadata": {
    "id": "xk1UQrNFjp6V",
    "outputId": "0324737b-4e84-4d68-ea21-bcff0e25867f"
   },
   "outputs": [
    {
     "data": {
      "text/html": [
       "<div>\n",
       "<style scoped>\n",
       "    .dataframe tbody tr th:only-of-type {\n",
       "        vertical-align: middle;\n",
       "    }\n",
       "\n",
       "    .dataframe tbody tr th {\n",
       "        vertical-align: top;\n",
       "    }\n",
       "\n",
       "    .dataframe thead th {\n",
       "        text-align: right;\n",
       "    }\n",
       "</style>\n",
       "<table border=\"1\" class=\"dataframe\">\n",
       "  <thead>\n",
       "    <tr style=\"text-align: right;\">\n",
       "      <th></th>\n",
       "      <th>Store</th>\n",
       "      <th>temperature</th>\n",
       "      <th>IsHoliday</th>\n",
       "      <th>Date</th>\n",
       "      <th>avg_sale</th>\n",
       "    </tr>\n",
       "  </thead>\n",
       "  <tbody>\n",
       "    <tr>\n",
       "      <th>0</th>\n",
       "      <td>14</td>\n",
       "      <td>46.15</td>\n",
       "      <td>True</td>\n",
       "      <td>2010-11-26</td>\n",
       "      <td>42343.62</td>\n",
       "    </tr>\n",
       "    <tr>\n",
       "      <th>1</th>\n",
       "      <td>10</td>\n",
       "      <td>55.33</td>\n",
       "      <td>True</td>\n",
       "      <td>2010-11-26</td>\n",
       "      <td>40832.59</td>\n",
       "    </tr>\n",
       "    <tr>\n",
       "      <th>2</th>\n",
       "      <td>4</td>\n",
       "      <td>47.96</td>\n",
       "      <td>True</td>\n",
       "      <td>2011-11-25</td>\n",
       "      <td>40604.09</td>\n",
       "    </tr>\n",
       "    <tr>\n",
       "      <th>3</th>\n",
       "      <td>10</td>\n",
       "      <td>60.68</td>\n",
       "      <td>True</td>\n",
       "      <td>2011-11-25</td>\n",
       "      <td>39867.55</td>\n",
       "    </tr>\n",
       "    <tr>\n",
       "      <th>4</th>\n",
       "      <td>20</td>\n",
       "      <td>46.38</td>\n",
       "      <td>True</td>\n",
       "      <td>2011-11-25</td>\n",
       "      <td>39811.41</td>\n",
       "    </tr>\n",
       "    <tr>\n",
       "      <th>...</th>\n",
       "      <td>...</td>\n",
       "      <td>...</td>\n",
       "      <td>...</td>\n",
       "      <td>...</td>\n",
       "      <td>...</td>\n",
       "    </tr>\n",
       "    <tr>\n",
       "      <th>445</th>\n",
       "      <td>5</td>\n",
       "      <td>79.86</td>\n",
       "      <td>True</td>\n",
       "      <td>2010-09-10</td>\n",
       "      <td>4944.08</td>\n",
       "    </tr>\n",
       "    <tr>\n",
       "      <th>446</th>\n",
       "      <td>5</td>\n",
       "      <td>38.25</td>\n",
       "      <td>True</td>\n",
       "      <td>2011-02-11</td>\n",
       "      <td>4868.60</td>\n",
       "    </tr>\n",
       "    <tr>\n",
       "      <th>447</th>\n",
       "      <td>5</td>\n",
       "      <td>39.81</td>\n",
       "      <td>True</td>\n",
       "      <td>2010-02-12</td>\n",
       "      <td>4797.32</td>\n",
       "    </tr>\n",
       "    <tr>\n",
       "      <th>448</th>\n",
       "      <td>5</td>\n",
       "      <td>49.79</td>\n",
       "      <td>True</td>\n",
       "      <td>2010-12-31</td>\n",
       "      <td>4733.02</td>\n",
       "    </tr>\n",
       "    <tr>\n",
       "      <th>449</th>\n",
       "      <td>33</td>\n",
       "      <td>51.60</td>\n",
       "      <td>True</td>\n",
       "      <td>2011-12-30</td>\n",
       "      <td>4395.09</td>\n",
       "    </tr>\n",
       "  </tbody>\n",
       "</table>\n",
       "<p>450 rows × 5 columns</p>\n",
       "</div>"
      ],
      "text/plain": [
       "     Store  temperature  IsHoliday        Date  avg_sale\n",
       "0       14        46.15       True  2010-11-26  42343.62\n",
       "1       10        55.33       True  2010-11-26  40832.59\n",
       "2        4        47.96       True  2011-11-25  40604.09\n",
       "3       10        60.68       True  2011-11-25  39867.55\n",
       "4       20        46.38       True  2011-11-25  39811.41\n",
       "..     ...          ...        ...         ...       ...\n",
       "445      5        79.86       True  2010-09-10   4944.08\n",
       "446      5        38.25       True  2011-02-11   4868.60\n",
       "447      5        39.81       True  2010-02-12   4797.32\n",
       "448      5        49.79       True  2010-12-31   4733.02\n",
       "449     33        51.60       True  2011-12-30   4395.09\n",
       "\n",
       "[450 rows x 5 columns]"
      ]
     },
     "execution_count": 29,
     "metadata": {
      "tags": []
     },
     "output_type": "execute_result"
    }
   ],
   "source": [
    "%%bigquery --project ba775-team-2b\n",
    "SELECT feature.Store, avg(Temperature) as temperature, feature.IsHoliday,feature.Date,\n",
    "   ROUND(AVG(Weekly_Sales),2) As avg_sale,\n",
    "FROM `ba775-team-2b.Retail_Data_Analytics.Features_data_set` AS feature\n",
    "INNER JOIN `ba775-team-2b.Retail_Data_Analytics.sales_data_set` AS sale\n",
    "ON feature.Date = sale.Date\n",
    "AND feature.Store = sale.store\n",
    "WHERE feature.IsHoliday = True\n",
    "GROUP BY feature.Store, feature.IsHoliday,Date\n",
    "ORDER BY avg_sale DESC"
   ]
  },
  {
   "cell_type": "code",
   "execution_count": null,
   "metadata": {
    "id": "3Egd3Jsyjp6c",
    "outputId": "eee8bca4-dff4-4037-f8c5-5bba7a432641"
   },
   "outputs": [
    {
     "data": {
      "text/html": [
       "<div>\n",
       "<style scoped>\n",
       "    .dataframe tbody tr th:only-of-type {\n",
       "        vertical-align: middle;\n",
       "    }\n",
       "\n",
       "    .dataframe tbody tr th {\n",
       "        vertical-align: top;\n",
       "    }\n",
       "\n",
       "    .dataframe thead th {\n",
       "        text-align: right;\n",
       "    }\n",
       "</style>\n",
       "<table border=\"1\" class=\"dataframe\">\n",
       "  <thead>\n",
       "    <tr style=\"text-align: right;\">\n",
       "      <th></th>\n",
       "      <th>store</th>\n",
       "      <th>AVG_corr</th>\n",
       "    </tr>\n",
       "  </thead>\n",
       "  <tbody>\n",
       "    <tr>\n",
       "      <th>0</th>\n",
       "      <td>1</td>\n",
       "      <td>0.041086</td>\n",
       "    </tr>\n",
       "    <tr>\n",
       "      <th>1</th>\n",
       "      <td>2</td>\n",
       "      <td>-0.198787</td>\n",
       "    </tr>\n",
       "    <tr>\n",
       "      <th>2</th>\n",
       "      <td>3</td>\n",
       "      <td>-0.088382</td>\n",
       "    </tr>\n",
       "    <tr>\n",
       "      <th>3</th>\n",
       "      <td>4</td>\n",
       "      <td>-0.153164</td>\n",
       "    </tr>\n",
       "    <tr>\n",
       "      <th>4</th>\n",
       "      <td>5</td>\n",
       "      <td>0.276959</td>\n",
       "    </tr>\n",
       "    <tr>\n",
       "      <th>5</th>\n",
       "      <td>6</td>\n",
       "      <td>0.101621</td>\n",
       "    </tr>\n",
       "    <tr>\n",
       "      <th>6</th>\n",
       "      <td>7</td>\n",
       "      <td>-0.306165</td>\n",
       "    </tr>\n",
       "    <tr>\n",
       "      <th>7</th>\n",
       "      <td>8</td>\n",
       "      <td>-0.125150</td>\n",
       "    </tr>\n",
       "    <tr>\n",
       "      <th>8</th>\n",
       "      <td>9</td>\n",
       "      <td>0.001827</td>\n",
       "    </tr>\n",
       "    <tr>\n",
       "      <th>9</th>\n",
       "      <td>10</td>\n",
       "      <td>-0.418942</td>\n",
       "    </tr>\n",
       "    <tr>\n",
       "      <th>10</th>\n",
       "      <td>11</td>\n",
       "      <td>-0.224058</td>\n",
       "    </tr>\n",
       "    <tr>\n",
       "      <th>11</th>\n",
       "      <td>12</td>\n",
       "      <td>-0.481080</td>\n",
       "    </tr>\n",
       "    <tr>\n",
       "      <th>12</th>\n",
       "      <td>13</td>\n",
       "      <td>-0.178667</td>\n",
       "    </tr>\n",
       "    <tr>\n",
       "      <th>13</th>\n",
       "      <td>14</td>\n",
       "      <td>0.254354</td>\n",
       "    </tr>\n",
       "    <tr>\n",
       "      <th>14</th>\n",
       "      <td>15</td>\n",
       "      <td>0.000853</td>\n",
       "    </tr>\n",
       "    <tr>\n",
       "      <th>15</th>\n",
       "      <td>16</td>\n",
       "      <td>0.048838</td>\n",
       "    </tr>\n",
       "    <tr>\n",
       "      <th>16</th>\n",
       "      <td>17</td>\n",
       "      <td>0.799599</td>\n",
       "    </tr>\n",
       "    <tr>\n",
       "      <th>17</th>\n",
       "      <td>18</td>\n",
       "      <td>-0.092319</td>\n",
       "    </tr>\n",
       "    <tr>\n",
       "      <th>18</th>\n",
       "      <td>19</td>\n",
       "      <td>0.221097</td>\n",
       "    </tr>\n",
       "    <tr>\n",
       "      <th>19</th>\n",
       "      <td>20</td>\n",
       "      <td>-0.041786</td>\n",
       "    </tr>\n",
       "    <tr>\n",
       "      <th>20</th>\n",
       "      <td>21</td>\n",
       "      <td>-0.171668</td>\n",
       "    </tr>\n",
       "    <tr>\n",
       "      <th>21</th>\n",
       "      <td>22</td>\n",
       "      <td>0.004653</td>\n",
       "    </tr>\n",
       "    <tr>\n",
       "      <th>22</th>\n",
       "      <td>23</td>\n",
       "      <td>0.101581</td>\n",
       "    </tr>\n",
       "    <tr>\n",
       "      <th>23</th>\n",
       "      <td>24</td>\n",
       "      <td>0.322899</td>\n",
       "    </tr>\n",
       "    <tr>\n",
       "      <th>24</th>\n",
       "      <td>25</td>\n",
       "      <td>0.146460</td>\n",
       "    </tr>\n",
       "    <tr>\n",
       "      <th>25</th>\n",
       "      <td>26</td>\n",
       "      <td>0.262697</td>\n",
       "    </tr>\n",
       "    <tr>\n",
       "      <th>26</th>\n",
       "      <td>27</td>\n",
       "      <td>0.300707</td>\n",
       "    </tr>\n",
       "    <tr>\n",
       "      <th>27</th>\n",
       "      <td>28</td>\n",
       "      <td>-0.218511</td>\n",
       "    </tr>\n",
       "    <tr>\n",
       "      <th>28</th>\n",
       "      <td>29</td>\n",
       "      <td>-0.054116</td>\n",
       "    </tr>\n",
       "    <tr>\n",
       "      <th>29</th>\n",
       "      <td>30</td>\n",
       "      <td>-0.309765</td>\n",
       "    </tr>\n",
       "    <tr>\n",
       "      <th>30</th>\n",
       "      <td>31</td>\n",
       "      <td>-0.173274</td>\n",
       "    </tr>\n",
       "    <tr>\n",
       "      <th>31</th>\n",
       "      <td>32</td>\n",
       "      <td>-0.117163</td>\n",
       "    </tr>\n",
       "    <tr>\n",
       "      <th>32</th>\n",
       "      <td>33</td>\n",
       "      <td>0.274304</td>\n",
       "    </tr>\n",
       "    <tr>\n",
       "      <th>33</th>\n",
       "      <td>34</td>\n",
       "      <td>-0.178415</td>\n",
       "    </tr>\n",
       "    <tr>\n",
       "      <th>34</th>\n",
       "      <td>35</td>\n",
       "      <td>0.083971</td>\n",
       "    </tr>\n",
       "    <tr>\n",
       "      <th>35</th>\n",
       "      <td>36</td>\n",
       "      <td>-0.273731</td>\n",
       "    </tr>\n",
       "    <tr>\n",
       "      <th>36</th>\n",
       "      <td>37</td>\n",
       "      <td>0.047197</td>\n",
       "    </tr>\n",
       "    <tr>\n",
       "      <th>37</th>\n",
       "      <td>38</td>\n",
       "      <td>0.405285</td>\n",
       "    </tr>\n",
       "    <tr>\n",
       "      <th>38</th>\n",
       "      <td>39</td>\n",
       "      <td>0.327911</td>\n",
       "    </tr>\n",
       "    <tr>\n",
       "      <th>39</th>\n",
       "      <td>40</td>\n",
       "      <td>0.324543</td>\n",
       "    </tr>\n",
       "    <tr>\n",
       "      <th>40</th>\n",
       "      <td>41</td>\n",
       "      <td>0.029911</td>\n",
       "    </tr>\n",
       "    <tr>\n",
       "      <th>41</th>\n",
       "      <td>42</td>\n",
       "      <td>0.463705</td>\n",
       "    </tr>\n",
       "    <tr>\n",
       "      <th>42</th>\n",
       "      <td>43</td>\n",
       "      <td>0.537338</td>\n",
       "    </tr>\n",
       "    <tr>\n",
       "      <th>43</th>\n",
       "      <td>44</td>\n",
       "      <td>0.155473</td>\n",
       "    </tr>\n",
       "    <tr>\n",
       "      <th>44</th>\n",
       "      <td>45</td>\n",
       "      <td>0.020752</td>\n",
       "    </tr>\n",
       "  </tbody>\n",
       "</table>\n",
       "</div>"
      ],
      "text/plain": [
       "    store  AVG_corr\n",
       "0       1  0.041086\n",
       "1       2 -0.198787\n",
       "2       3 -0.088382\n",
       "3       4 -0.153164\n",
       "4       5  0.276959\n",
       "5       6  0.101621\n",
       "6       7 -0.306165\n",
       "7       8 -0.125150\n",
       "8       9  0.001827\n",
       "9      10 -0.418942\n",
       "10     11 -0.224058\n",
       "11     12 -0.481080\n",
       "12     13 -0.178667\n",
       "13     14  0.254354\n",
       "14     15  0.000853\n",
       "15     16  0.048838\n",
       "16     17  0.799599\n",
       "17     18 -0.092319\n",
       "18     19  0.221097\n",
       "19     20 -0.041786\n",
       "20     21 -0.171668\n",
       "21     22  0.004653\n",
       "22     23  0.101581\n",
       "23     24  0.322899\n",
       "24     25  0.146460\n",
       "25     26  0.262697\n",
       "26     27  0.300707\n",
       "27     28 -0.218511\n",
       "28     29 -0.054116\n",
       "29     30 -0.309765\n",
       "30     31 -0.173274\n",
       "31     32 -0.117163\n",
       "32     33  0.274304\n",
       "33     34 -0.178415\n",
       "34     35  0.083971\n",
       "35     36 -0.273731\n",
       "36     37  0.047197\n",
       "37     38  0.405285\n",
       "38     39  0.327911\n",
       "39     40  0.324543\n",
       "40     41  0.029911\n",
       "41     42  0.463705\n",
       "42     43  0.537338\n",
       "43     44  0.155473\n",
       "44     45  0.020752"
      ]
     },
     "execution_count": 30,
     "metadata": {
      "tags": []
     },
     "output_type": "execute_result"
    }
   ],
   "source": [
    "%%bigquery --project ba775-team-2b\n",
    "SELECT store,AVG(Correlation)AS AVG_corr\n",
    "FROM\n",
    "(SELECT store,temperature,avg_sale,\n",
    "CORR(temperature,avg_sale)\n",
    "   OVER(PARTITION BY store) AS Correlation\n",
    "FROM (SELECT feature.Store, avg(Temperature) as temperature, feature.IsHoliday,feature.Date,\n",
    "   ROUND(AVG(Weekly_Sales),2) As avg_sale, \n",
    "FROM `ba775-team-2b.Retail_Data_Analytics.Features_data_set` AS feature\n",
    "INNER JOIN `ba775-team-2b.Retail_Data_Analytics.sales_data_set` AS sale\n",
    "ON feature.Date = sale.Date\n",
    "AND feature.Store = sale.store\n",
    "WHERE feature.IsHoliday = True\n",
    "GROUP BY feature.Store, feature.IsHoliday,Date)\n",
    "ORDER BY Correlation DESC\n",
    ")\n",
    "GROUP BY store"
   ]
  },
  {
   "cell_type": "markdown",
   "metadata": {
    "id": "BSHC5mVsjp6j"
   },
   "source": [
    "### 2.5 Question: Maro\n",
    "What is the influence of type and size of stores on department sales? \n",
    "\n",
    "- As we see in the stores-data set, different stores have their different types (A, B or C) and different sizes. These parameters have different effects on the sales of those stores. \n",
    "Type A is the largest store. From the piechart we can say that number of stores of type A is more than B and C. Also the boxplot average sales for A is the highest and C store is the lowest. Average weekly sales for type A that is the largest is 21,436 and for type C the average weekly sales is 9,442. \n",
    "By viewing the barchart for the relationship between the average size of the stores and the average sales we can see that there is a relatively relationship between the size and the weekly sales. We recommend that stores that are in smaller sizes plan to scale their size in order to extend their sales.\n",
    "In the following part for each type (A, B and C) that are in different sizes we notice that for Type A that is the largest the relationship between size and sales is relatively stronger than type B that is smaller in size. Therefor we can say that for stores in larger size this relationship becomes stronger. For instance for A type stores the ratio of sales on size is larger. Also the value for R-square for A type stores is larger than for type B and C. Also in larger size stores the growth of sales is higher than smaller size stores. \n"
   ]
  },
  {
   "cell_type": "code",
   "execution_count": 1,
   "metadata": {
    "colab": {
     "base_uri": "https://localhost:8080/",
     "height": 324
    },
    "id": "a5_qz4Ssjp6l",
    "outputId": "b3f08874-9447-4961-ad3a-1e0b92dd5d76"
   },
   "outputs": [
    {
     "data": {
      "text/html": [
       "<div>\n",
       "<style scoped>\n",
       "    .dataframe tbody tr th:only-of-type {\n",
       "        vertical-align: middle;\n",
       "    }\n",
       "\n",
       "    .dataframe tbody tr th {\n",
       "        vertical-align: top;\n",
       "    }\n",
       "\n",
       "    .dataframe thead th {\n",
       "        text-align: right;\n",
       "    }\n",
       "</style>\n",
       "<table border=\"1\" class=\"dataframe\">\n",
       "  <thead>\n",
       "    <tr style=\"text-align: right;\">\n",
       "      <th></th>\n",
       "      <th>avgsize</th>\n",
       "      <th>avgsales</th>\n",
       "      <th>Dept</th>\n",
       "      <th>type</th>\n",
       "    </tr>\n",
       "  </thead>\n",
       "  <tbody>\n",
       "    <tr>\n",
       "      <th>0</th>\n",
       "      <td>177247.727273</td>\n",
       "      <td>112156.881662</td>\n",
       "      <td>92</td>\n",
       "      <td>A</td>\n",
       "    </tr>\n",
       "    <tr>\n",
       "      <th>1</th>\n",
       "      <td>177247.727273</td>\n",
       "      <td>97094.026043</td>\n",
       "      <td>95</td>\n",
       "      <td>A</td>\n",
       "    </tr>\n",
       "    <tr>\n",
       "      <th>2</th>\n",
       "      <td>177247.727273</td>\n",
       "      <td>70550.502168</td>\n",
       "      <td>90</td>\n",
       "      <td>A</td>\n",
       "    </tr>\n",
       "    <tr>\n",
       "      <th>3</th>\n",
       "      <td>177247.727273</td>\n",
       "      <td>65005.018090</td>\n",
       "      <td>38</td>\n",
       "      <td>A</td>\n",
       "    </tr>\n",
       "    <tr>\n",
       "      <th>4</th>\n",
       "      <td>190099.304831</td>\n",
       "      <td>62046.661710</td>\n",
       "      <td>72</td>\n",
       "      <td>A</td>\n",
       "    </tr>\n",
       "    <tr>\n",
       "      <th>...</th>\n",
       "      <td>...</td>\n",
       "      <td>...</td>\n",
       "      <td>...</td>\n",
       "      <td>...</td>\n",
       "    </tr>\n",
       "    <tr>\n",
       "      <th>222</th>\n",
       "      <td>42988.000000</td>\n",
       "      <td>2.380000</td>\n",
       "      <td>19</td>\n",
       "      <td>C</td>\n",
       "    </tr>\n",
       "    <tr>\n",
       "      <th>223</th>\n",
       "      <td>101162.750000</td>\n",
       "      <td>1.437500</td>\n",
       "      <td>43</td>\n",
       "      <td>B</td>\n",
       "    </tr>\n",
       "    <tr>\n",
       "      <th>224</th>\n",
       "      <td>208281.000000</td>\n",
       "      <td>0.705000</td>\n",
       "      <td>43</td>\n",
       "      <td>A</td>\n",
       "    </tr>\n",
       "    <tr>\n",
       "      <th>225</th>\n",
       "      <td>106308.142361</td>\n",
       "      <td>-23.920000</td>\n",
       "      <td>47</td>\n",
       "      <td>B</td>\n",
       "    </tr>\n",
       "    <tr>\n",
       "      <th>226</th>\n",
       "      <td>40016.000000</td>\n",
       "      <td>-32.353125</td>\n",
       "      <td>71</td>\n",
       "      <td>C</td>\n",
       "    </tr>\n",
       "  </tbody>\n",
       "</table>\n",
       "<p>227 rows × 4 columns</p>\n",
       "</div>"
      ],
      "text/plain": [
       "           avgsize       avgsales  Dept type\n",
       "0    177247.727273  112156.881662    92    A\n",
       "1    177247.727273   97094.026043    95    A\n",
       "2    177247.727273   70550.502168    90    A\n",
       "3    177247.727273   65005.018090    38    A\n",
       "4    190099.304831   62046.661710    72    A\n",
       "..             ...            ...   ...  ...\n",
       "222   42988.000000       2.380000    19    C\n",
       "223  101162.750000       1.437500    43    B\n",
       "224  208281.000000       0.705000    43    A\n",
       "225  106308.142361     -23.920000    47    B\n",
       "226   40016.000000     -32.353125    71    C\n",
       "\n",
       "[227 rows x 4 columns]"
      ]
     },
     "execution_count": 1,
     "metadata": {},
     "output_type": "execute_result"
    }
   ],
   "source": [
    "%%bigquery --project ba775-team-2b\n",
    "SELECT AVG(size) as avgsize, AVG(Weekly_Sales) as avgsales, Dept,type\n",
    "FROM\n",
    "(SELECT * FROM `ba775-team-2b.Retail_Data_Analytics.sales_data_set` AS sales\n",
    "INNER JOIN `ba775-team-2b.Retail_Data_Analytics.stores_data_set` AS store\n",
    "ON sales.store = store.store) AS temp\n",
    "group by Dept,type\n",
    "ORDER BY avgsales DESC"
   ]
  },
  {
   "cell_type": "markdown",
   "metadata": {
    "id": "XfllHhlhjp6u"
   },
   "source": [
    "### 2.6 Question: Zhiyuan\n",
    "What is the influence of markdowns and department sales?\n",
    "- Explanation: The markdowns are one of the measures which store adopts to promote sales and maximize their profit. In this question, we will measure the effect of five anonymous markdowns on weekly_sales separately. \n",
    "- Figure 4 illustrates the correlation between five markdowns and weekly sales. A trendline is added to the scatter plot to summarize the relationship between MarkDown1-5 and Weekly Sales. It is shown by Figure 4 that the increase of MarkDown1-5 have little effect on weekly sales. MarkDown1 and Markdwon4 have a negative linear relationship with weekly sales. MarkDown3 and Markdwon5 have a positive linear relationship with weekly sales. The regression line for the Markdown2 is almost horizontal. Thus, if our project mention any Markdown strategy for increasing weekly sale later, MarkDown 3 and 5 will be better options.\n",
    "- All the $R^2$ of these MarkDowns are small, such as $R^2$ for MarkDown1 is 0.0323155, $R^2$ for MarkDown2 is 2.872e-05. This also means that they do not have a strong effect on weekly sales. However, the small P-values also demonstrate that the relationship between MarkDowns and weekly sales does exist.\n",
    "- When we take 5 MarkDowns as a sum, we can also observe that the relationship between MarkDowns and weekly sales are not strong."
   ]
  },
  {
   "cell_type": "code",
   "execution_count": null,
   "metadata": {
    "id": "ZbVxmQABjp6v"
   },
   "outputs": [],
   "source": [
    "%%bigquery --project ba775-team-2b\n",
    "SELECT feature.Store,Dept,MarkDown1,MarkDown2,MarkDown3,MarkDown4,MarkDown5,feature.Date,Weekly_Sales\n",
    "FROM `ba775-team-2b.Retail_Data_Analytics.Features_data_set` AS feature\n",
    "INNER JOIN `ba775-team-2b.Retail_Data_Analytics.sales_data_set` AS sale\n",
    "ON feature.Date = sale.Date\n",
    "AND feature.Store = sale.store\n",
    "WHERE MarkDown1 != 'NA' AND MarkDown2 != 'NA' AND MarkDown3 != 'NA' AND MarkDown4 != 'NA' AND MarkDown5 != 'NA'"
   ]
  },
  {
   "cell_type": "code",
   "execution_count": null,
   "metadata": {
    "id": "1odqZOOyMRoM"
   },
   "outputs": [],
   "source": [
    "%%bigquery --project ba775-team-2b\n",
    "SELECT feature.Store,Dept,feature.Date,MarkDown1,MarkDown2,MarkDown3,MarkDown4,MarkDown5,\n",
    "(CAST(MarkDown1 AS float64) + CAST(MarkDown2 AS float64) + CAST(MarkDown3 AS float64) + CAST(MarkDown4 AS float64) + CAST(MarkDown5 AS float64))as MarkDownSum,Weekly_Sales,sale.IsHoliday\n",
    "FROM `ba775-team-2b.Retail_Data_Analytics.Features_data_set` AS feature\n",
    "INNER JOIN `ba775-team-2b.Retail_Data_Analytics.sales_data_set` AS sale\n",
    "ON feature.Date = sale.Date\n",
    "AND feature.Store = sale.store\n",
    "WHERE MarkDown1 != 'NA' AND MarkDown2 != 'NA' AND MarkDown3 != 'NA' AND MarkDown4 != 'NA' AND MarkDown5 != 'NA'\n",
    "order by MarkDownSum desc"
   ]
  },
  {
   "cell_type": "markdown",
   "metadata": {
    "id": "t47BfytXroae"
   },
   "source": [
    "## 3. Correlation Analysis\n",
    "- Draw correlation matrix between features and weekly sales for further analysis."
   ]
  },
  {
   "cell_type": "code",
   "execution_count": 5,
   "metadata": {
    "id": "uYgCiYOcW6wG"
   },
   "outputs": [],
   "source": [
    "import pandas as pd\n",
    "import seaborn as sns"
   ]
  },
  {
   "cell_type": "code",
   "execution_count": 8,
   "metadata": {
    "id": "b9wA0nOj-rAm"
   },
   "outputs": [],
   "source": [
    "%%bigquery features\n",
    "#Change data type to numeric value, remove 'NA'\n",
    "SELECT Store, Date, Temperature, Fuel_Price, IsHoliday, Weekly_Sales, MarkDown1, MarkDown2, MarkDown3, MarkDown4, MarkDown5,CPI,Unemployment\n",
    "FROM `ba775-team-2b.Retail_Data_Analytics.tableau_corr`\n"
   ]
  },
  {
   "cell_type": "code",
   "execution_count": 12,
   "metadata": {
    "id": "AzUzyz91XyvN"
   },
   "outputs": [],
   "source": [
    "#Convert argument to datetime.\n",
    "features['Date'] = pd.to_datetime(features['Date'])\n",
    "sales['Date'] = pd.to_datetime(sales['Date'])"
   ]
  },
  {
   "cell_type": "code",
   "execution_count": 13,
   "metadata": {
    "id": "KJIjwvD_tJpg"
   },
   "outputs": [],
   "source": [
    "#merge data\n",
    "df=pd.merge(sales,features, on=['Store','Date', 'IsHoliday'])\n",
    "df=pd.merge(df,stores, on=['Store'], how='left')\n",
    "types_encoded, types =df['Type'].factorize()\n",
    "df['Type'] = types_encoded"
   ]
  },
  {
   "cell_type": "code",
   "execution_count": 14,
   "metadata": {
    "colab": {
     "base_uri": "https://localhost:8080/",
     "height": 309
    },
    "id": "nDulx7ViW-bM",
    "outputId": "bda7d07b-c11e-4421-fb8f-eda53e481030"
   },
   "outputs": [
    {
     "data": {
      "text/plain": [
       "<AxesSubplot:>"
      ]
     },
     "execution_count": 14,
     "metadata": {},
     "output_type": "execute_result"
    },
    {
     "data": {
      "image/png": "[encoded data removed]",
      "text/plain": [
       "<Figure size 432x288 with 2 Axes>"
      ]
     },
     "metadata": {
      "needs_background": "light"
     },
     "output_type": "display_data"
    }
   ],
   "source": [
    "# Correlation matrix between Temperature,Fuel_Price,CPI,Unemployment and Weekly_Sales,Type\n",
    "df_feature=df.groupby(by=['Date'], as_index=False)[['Temperature', 'Fuel_Price', 'CPI', 'Unemployment','Weekly_Sales_x','Type'\n",
    "                                                  ]].mean()\n",
    "df_feature = df_feature.set_index('Date')\n",
    "sns.heatmap(df_feature.corr(),annot=True)"
   ]
  },
  {
   "cell_type": "code",
   "execution_count": 15,
   "metadata": {
    "colab": {
     "base_uri": "https://localhost:8080/"
    },
    "id": "BMWEaf2W454F",
    "outputId": "a5f69033-9ec1-4b5b-e101-9a696f02cfc9"
   },
   "outputs": [
    {
     "data": {
      "text/plain": [
       "<AxesSubplot:>"
      ]
     },
     "execution_count": 15,
     "metadata": {},
     "output_type": "execute_result"
    },
    {
     "data": {
      "image/png": "[encoded data removed]",
      "text/plain": [
       "<Figure size 432x288 with 2 Axes>"
      ]
     },
     "metadata": {
      "needs_background": "light"
     },
     "output_type": "display_data"
    }
   ],
   "source": [
    "# Correlation matrix between MarkDown1,MarkDown2,MarkDown3,MarkDown4,MarkDown5 and Weekly_Sales\n",
    "df_markdown = df.groupby(by=['Date'], as_index=False)[['MarkDown1', 'MarkDown2', 'MarkDown3', 'MarkDown4','MarkDown5','Weekly_Sales_x'\n",
    "                                                  ]].mean()\n",
    "df_markdown = df_markdown.set_index('Date')\n",
    "sns.heatmap(df_markdown.corr(),annot=True)"
   ]
  },
  {
   "cell_type": "markdown",
   "metadata": {},
   "source": [
    "## 4. Machine Learning\n",
    "- The machine learning model used for predicting department-wise weekly sales for each store is eXtreme Gradient Boosting (XGBoost). XGBoost dominates structured datasets on classification and regression predictive modeling problems. It is known for its fast execution speed and good model performance."
   ]
  },
  {
   "cell_type": "markdown",
   "metadata": {},
   "source": [
    "### 4.1 Creation of the model\n",
    "- Evaluation:\n"
   ]
  },
  {
   "cell_type": "markdown",
   "metadata": {},
   "source": [
    "Measure | Value\n",
    "--- | ---\n",
    "Mean absolute error | 4,361.6929\n",
    "Mean squared error | 49,340,189.9605\n",
    "Mean squared log error | 1.4269\n",
    "Median absolute error | 2,611.7933\n",
    "R squared | 0.9095"
   ]
  },
  {
   "cell_type": "code",
   "execution_count": null,
   "metadata": {},
   "outputs": [],
   "source": [
    "%%bigquery\n",
    "CREATE or REPLACE MODEL markdown.overall_models_xgboost\n",
    "OPTIONS(MODEL_TYPE='BOOSTED_TREE_REGRESSOR',\n",
    "        BOOSTER_TYPE = 'GBTREE',\n",
    "        NUM_PARALLEL_TREE = 1,\n",
    "        MAX_ITERATIONS = 30,\n",
    "        TREE_METHOD = 'HIST',\n",
    "        SUBSAMPLE = 0.85,\n",
    "        INPUT_LABEL_COLS = ['Weekly_Sales']) AS\n",
    "\n",
    "WITH params AS (\n",
    "    SELECT\n",
    "    1 AS TRAIN,\n",
    "    2 AS EVAL\n",
    "    ),\n",
    "\n",
    "  taxitrips AS (\n",
    "  SELECT\n",
    "    Weekly_Sales,\n",
    "    EXTRACT(MONTH FROM Date) AS month,\n",
    "    Temperature,\n",
    "    Store,\n",
    "    Fuel_Price,\n",
    "    CPI,\n",
    "    Unemployment,\n",
    "    IsHoliday,\n",
    "    Dept,\n",
    "    Type,\n",
    "    Size,\n",
    "    CAST(MarkDown1 AS FLOAT64) Markdown1,\n",
    "    CAST(MarkDown2 AS FLOAT64) Markdown2,\n",
    "    CAST(MarkDown3 AS FLOAT64) Markdown3,\n",
    "    CAST(MarkDown4 AS FLOAT64) Markdown4,\n",
    "    CAST(MarkDown5 AS FLOAT64) Markdown5\n",
    "   FROM\n",
    "    `ba775-team-2b.Retail_Data_Analytics.Master`,params\n",
    "  WHERE\n",
    "  MOD(ABS(FARM_FINGERPRINT(CAST(Date AS STRING))),10) = params.TRAIN\n",
    "  AND MarkDown1 != 'NA'\n",
    "  AND MarkDown2 != 'NA'\n",
    "  AND MarkDown3 != 'NA'\n",
    "  AND MarkDown4 != 'NA'\n",
    "  AND MarkDown5 != 'NA'\n",
    "  )\n",
    "\n",
    "  SELECT *\n",
    "  FROM taxitrips\n"
   ]
  },
  {
   "cell_type": "markdown",
   "metadata": {},
   "source": [
    "### 4.2 Evaluation of the model\n",
    "- Evaluation:"
   ]
  },
  {
   "cell_type": "markdown",
   "metadata": {},
   "source": [
    "Measure | Value\n",
    "--- | ---\n",
    "Mean absolute error | 7791.944899572095\n",
    "Mean squared error | 1.6848493855453283E8\n",
    "Mean squared log error | 1.4803936138513836\n",
    "Median absolute error | 4228.513066406251\n",
    "R squared | 0.7476791820345978\n",
    "explained_variance | 0.7486277043073044"
   ]
  },
  {
   "cell_type": "code",
   "execution_count": null,
   "metadata": {},
   "outputs": [],
   "source": [
    "%%bigquery --project ba775-team-2b\n",
    "SELECT\n",
    "  *\n",
    "FROM\n",
    "  ML.EVALUATE(MODEL markdown.overall_models_xgboost,\n",
    "  (\n",
    "\n",
    "WITH params AS (\n",
    "    SELECT\n",
    "    1 AS TRAIN,\n",
    "    2 AS EVAL\n",
    "    ),\n",
    "\n",
    "  taxitrips AS (\n",
    "  SELECT\n",
    "    Weekly_Sales,\n",
    "    EXTRACT(MONTH FROM Date) AS month,\n",
    "    Temperature,\n",
    "    Store,\n",
    "    Fuel_Price,\n",
    "    CPI,\n",
    "    Unemployment,\n",
    "    IsHoliday,\n",
    "    Dept,\n",
    "    Type,\n",
    "    Size,\n",
    "    CAST(MarkDown1 AS FLOAT64) Markdown1,\n",
    "    CAST(MarkDown2 AS FLOAT64) Markdown2,\n",
    "    CAST(MarkDown3 AS FLOAT64) Markdown3,\n",
    "    CAST(MarkDown4 AS FLOAT64) Markdown4,\n",
    "    CAST(MarkDown5 AS FLOAT64) Markdown5\n",
    "   FROM\n",
    "    `ba775-team-2b.Retail_Data_Analytics.Master`,params\n",
    "  WHERE\n",
    "  MOD(ABS(FARM_FINGERPRINT(CAST(Date AS STRING))),10) = params.EVAL\n",
    "  AND MarkDown1 != 'NA'\n",
    "  AND MarkDown2 != 'NA'\n",
    "  AND MarkDown3 != 'NA'\n",
    "  AND MarkDown4 != 'NA'\n",
    "  AND MarkDown5 != 'NA'\n",
    "  )\n",
    "\n",
    "  SELECT *\n",
    "  FROM taxitrips\n",
    " ))"
   ]
  },
  {
   "cell_type": "markdown",
   "metadata": {},
   "source": [
    "## 5. Summary\n",
    "In conclusion, by investigating the relationship between all independent variables and the dependent variable--weekly sales, we know which variables are the main factors that affect the weekly sales. And we made a related regression model and used the xgboost model to predict the linear model. Through the above conclusions, we made the following recommendations about how to increase sales for stores."
   ]
  },
  {
   "cell_type": "markdown",
   "metadata": {},
   "source": [
    "The important factors (which majorly affect the average weekly sales)\n",
    "- Size: There is a relative relationship between the size of the stores and the average weekly sales. That means that larger stores have relatively higher weekly sales on average. This relationship becomes stronger when the store is larger.\n",
    "- Holiday: average weekly sales on holiday higher than the average weekly sales not on holiday\n",
    "- CPI: Though lower CPI itself does not suggest higher sales, it is associated with higher sales in general.\n",
    "- Unemployment rate: Though the unemployment rate between 5 and 10 itself does not suggest higher sales, it is associated with higher sales in general.\n",
    "- Temperature: When the temperature dramatically decreases, the store sales will increase.\n",
    "\n"
   ]
  },
  {
   "cell_type": "markdown",
   "metadata": {},
   "source": [
    "Recommendations for stores:\n",
    "- Size: We recommend that stores that are in smaller sizes plan to scale their size to scale their sales. \n",
    "- Holiday: stores can take some actions to take advantage of the holiday such as hold some promotion events or adopt some new marketing strategies to sell products during holidays to obtain higher sales.\n",
    "- CPI and unemployment rate: CPI and unemployment rate are economic factors. People are more willing to purchase when the economic situation is good. We think that stores need to control the cost during the time with higher CPI, and similarly to control profits that stores are willing to obtain to attract more customers during a tough time. For instance, to attract more consumers, stores can lower a little bit of the selling price since no one would always put itself at the point of equilibrium to sell the product. Also, stores need to investigate the reason that if the sales go up but with the higher CPI. It may due to the increase in price. \n",
    "- MarkDowns: MarkDowns must be adopted by stores as a means to attract customers and increase sales. According to the relationship between MarkDown1-5 and weekly sales in Figure 4, we can see that most of the points are concentrated in areas where the markdown is relatively low. This shows that according to the characteristics of these Markdowns, for the improvement of weekly sales, the effect of smaller MarkDowns is better than that of larger MarkDowns. Therefore, in the following sales, relatively small Markdowns will become the first choice to increase the weekly sale. What's more, MarkDown1 and Markdwon4 have a negative linear relationship with weekly sales. MarkDown3 and Markdwon5 have a positive linear relationship with weekly sales. The regression line for the Markdown2 is almost horizontal. Therefore, MarkDown3 and Markdwon5 can improve weekly sales more effectively. Markdowns can also reduce inventory pressure for stores. Markdown can be used to increase sales when certain product sales are in decline. For products that have been stocked for a long time and are about to expire, Markdowns can reduce losses.\n"
   ]
  },
  {
   "cell_type": "markdown",
   "metadata": {
    "id": "HWRzVfJUzonH"
   },
   "source": [
    "## 6. All related charts"
   ]
  },
  {
   "cell_type": "markdown",
   "metadata": {},
   "source": [
    "![](https://drive.google.com/uc?id=1Mh7gbRHcZO7ijtk45ZwVX3d87PvSOETh )\n"
   ]
  },
  {
   "cell_type": "markdown",
   "metadata": {},
   "source": [
    "![](https://drive.google.com/uc?id=1LHu_tYvaQF3ZqXxiFed_OSj8UOnUSDfM)"
   ]
  },
  {
   "cell_type": "markdown",
   "metadata": {},
   "source": [
    "![](https://drive.google.com/uc?id=1gh0PcdWtKKBwR1duHXiZkXEhY8F-Uvs7)\n"
   ]
  },
  {
   "cell_type": "markdown",
   "metadata": {},
   "source": [
    "![](https://drive.google.com/uc?id=1TTId-zRI-adnibsg1rY_ubWnJedLvFCt)\n"
   ]
  },
  {
   "cell_type": "markdown",
   "metadata": {},
   "source": [
    "![](https://drive.google.com/uc?id=1VUp4B5Ip4IpkWaELjMDmaeXBZM0Ldg35)"
   ]
  },
  {
   "cell_type": "markdown",
   "metadata": {},
   "source": [
    "![](https://drive.google.com/uc?id=1_HMVOfnkeabtSlOPwAoXSEqyXeZdHAUJ)"
   ]
  },
  {
   "cell_type": "markdown",
   "metadata": {},
   "source": [
    "![](https://drive.google.com/uc?id=1CIxIGxA9Id0Zs3TvGWHSUHEP0xRMTlSA)\n",
    "\n"
   ]
  },
  {
   "cell_type": "markdown",
   "metadata": {},
   "source": [
    "![](https://drive.google.com/uc?id=1AH6S4Wjr6g4kIe04QkMdu304P6Tyg6rp)\n"
   ]
  },
  {
   "cell_type": "markdown",
   "metadata": {},
   "source": [
    "![](https://drive.google.com/uc?id=1BQVwWmoxCwrt_Wqgd1vESHguvT_TunjC)\n",
    "\n"
   ]
  },
  {
   "cell_type": "markdown",
   "metadata": {},
   "source": [
    "![](https://drive.google.com/uc?id=16rLOtAsj_wbkDy6zaDQLiZbQwbM4Vy75)\n"
   ]
  },
  {
   "cell_type": "markdown",
   "metadata": {},
   "source": [
    "![](https://drive.google.com/uc?id=1NBqS3_vCyoDBzhWGe6ucaVtfrJ4pc6rj)"
   ]
  },
  {
   "cell_type": "markdown",
   "metadata": {},
   "source": [
    "![](https://drive.google.com/uc?id=16o2kMzgpY0U6ubNqh58XfuzfHxgaRW2r)"
   ]
  },
  {
   "cell_type": "markdown",
   "metadata": {},
   "source": [
    "![](https://drive.google.com/uc?id=1zr9BTO38V3hoImt37Jj6M-Qyi8Aayk50)\n"
   ]
  }
 ],
 "metadata": {
  "colab": {
   "collapsed_sections": [],
   "name": "TEAM2b_notebook.ipynb",
   "provenance": []
  },
  "environment": {
   "name": "common-cpu.m58",
   "type": "gcloud",
   "uri": "gcr.io/deeplearning-platform-release/base-cpu:m58"
  },
  "kernelspec": {
   "display_name": "Python 3",
   "language": "python",
   "name": "python3"
  },
  "language_info": {
   "codemirror_mode": {
    "name": "ipython",
    "version": 3
   },
   "file_extension": ".py",
   "mimetype": "text/x-python",
   "name": "python",
   "nbconvert_exporter": "python",
   "pygments_lexer": "ipython3",
   "version": "3.7.8"
  }
 },
 "nbformat": 4,
 "nbformat_minor": 4
}